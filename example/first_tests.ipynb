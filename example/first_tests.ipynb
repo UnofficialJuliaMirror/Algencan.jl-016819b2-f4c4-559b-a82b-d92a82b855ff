{
 "cells": [
  {
   "cell_type": "code",
   "execution_count": 1,
   "metadata": {},
   "outputs": [
    {
     "data": {
      "text/plain": [
       "\"/home/pjssilva/documentos/programas/Algecan.jl/algencan-3.1.1/lib\""
      ]
     },
     "execution_count": 1,
     "metadata": {},
     "output_type": "execute_result"
    }
   ],
   "source": [
    "ENV[\"ALGENCAN_LIB_DIR\"]"
   ]
  },
  {
   "cell_type": "code",
   "execution_count": 2,
   "metadata": {},
   "outputs": [
    {
     "name": "stderr",
     "output_type": "stream",
     "text": [
      "\u001b[1m\u001b[36mINFO: \u001b[39m\u001b[22m\u001b[36mRecompiling stale cache file /home/pjssilva/.julia/lib/v0.6/Algencan.ji for module Algencan.\n",
      "\u001b[39m"
     ]
    }
   ],
   "source": [
    "push!(LOAD_PATH, \".\")\n",
    "using JuMP\n",
    "import Algencan\n",
    "\n",
    "m = Model(solver=Algencan.AlgencanSolver())\n",
    "@variable(m, 3.0 <= var[1:2] <= 5.0)\n",
    "@NLobjective(m, Min, 123.45*(var[1] - pi)^2 + sin(var[1]) + (var[2] - e)^2 + sin(pi - var[2]))\n",
    "\n",
    "m2 = Model(solver=Algencan.AlgencanSolver())\n",
    "@variable(m2, 3.0 <= var[1:3] <= 5.0)\n",
    "@NLobjective(m2, Min, 123.45*(var[1] - 1)^2 + (var[2] - 3)^2 + var[3])"
   ]
  },
  {
   "cell_type": "code",
   "execution_count": null,
   "metadata": {},
   "outputs": [],
   "source": [
    "solve(m)"
   ]
  },
  {
   "cell_type": "code",
   "execution_count": 5,
   "metadata": {},
   "outputs": [
    {
     "name": "stdout",
     "output_type": "stream",
     "text": [
      "\n",
      " ==============================================================================\n",
      " This is ALGENCAN 3.1.1.\n",
      " ALGENCAN, an Augmented Lagrangian method for nonlinear programming, is part of\n",
      " the TANGO Project: Trustable Algorithms for Nonlinear General Optimization.\n",
      " See http://www.ime.usp.br/~egbirgin/tango/ for details.\n",
      " ==============================================================================\n",
      "\n",
      " Processing array of parameters with   1 entrances:\n",
      "\n",
      " ITERATIONS-OUTPUT-DETAIL                                                     1\n",
      "\n",
      " The specification file is not being used.\n",
      "\n",
      " Available HSL subroutines = NONE           \n",
      "\n",
      " ALGENCAN PARAMETERS:\n",
      "\n",
      " firstde                =                    T\n",
      " seconde                =                    T\n",
      " truehpr                =                    T\n",
      " hptype in TN           =               TRUEHP\n",
      " lsslvr in TR           =            NONE/NONE\n",
      " lsslvr in NW           =            NONE/NONE\n",
      " lsslvr in ACCPROC      =            NONE/NONE\n",
      " innslvr                =                   TN\n",
      " accproc                =                    F\n",
      " rmfixv                 =                    T\n",
      " slacks                 =                    F\n",
      " scale                  =                    T\n",
      " epsfeas                =           1.0000D-08\n",
      " epsopt                 =           1.0000D-08\n",
      " efstain                =           1.0000D-04\n",
      " eostain                =           1.0000D-12\n",
      " efacc                  =           1.0000D-04\n",
      " eoacc                  =           1.0000D-04\n",
      " iprint                 =                    1\n",
      " ncomp                  =                    6\n",
      "\n",
      " Specification filename =                   ''\n",
      " Output filename        =       'algencan.out'\n",
      " Solution filename      =                   ''\n",
      "\n",
      " Number of variables               :       3\n",
      " Number of equality constraints    :       0\n",
      " Number of inequality constraints  :       0\n",
      " Number of bound constraints       :       6\n",
      " Number of fixed variables         :       0\n",
      "\n",
      " There are no fixed variables to be removed.\n",
      "\n",
      " The scaling feature was mainly developed for constrained problems. For\n",
      " unconstrained and bound-constrained problem, please, set the optimality\n",
      " tolerance (related to the sup-norm of the projected gradient of the\n",
      " objective function) with a convenient value. The scaling feature is being\n",
      " disabled.\n",
      "\n",
      "     Entry to GENCAN.\n",
      "     Number of variables:       3\n",
      "     Required optimality tolerance: 1.0D-08\n",
      "\n",
      "     It         function  gpsupn   xsupn stesupn   nfree   SPGit in-face    fcnt\n",
      "      0   4.96800000D+02 0.0D+00 3.0D+00\n",
      "\n",
      "     Flag of GENCAN: Solution was found.\n",
      "\n",
      "\n",
      " User-provided subroutines calls counters: \n",
      "\n",
      " Subroutine fsub     (coded=T):        1\n",
      " Subroutine gsub     (coded=T):        2\n",
      " Subroutine hsub     (coded=T):        0\n",
      " Subroutine csub     (coded=F):        0 (       0 calls per constraint in avg)\n",
      " Subroutine jacsub   (coded=F):        0 (       0 calls per constraint in avg)\n",
      " Subroutine hcsub    (coded=F):        0 (       0 calls per constraint in avg)\n",
      " Subroutine fcsub    (coded=F):        0\n",
      " Subroutine gjacsub  (coded=F):        0\n",
      " Subroutine gjacpsub (coded=F):        0\n",
      " Subroutine hlsub    (coded=F):        0\n",
      " Subroutine hlpsub   (coded=F):        0\n",
      "\n",
      "\n",
      " Total CPU time in seconds =     0.00\n",
      "x final [3.0, 3.0, 3.0]\n"
     ]
    },
    {
     "data": {
      "text/plain": [
       ":Optimal"
      ]
     },
     "execution_count": 5,
     "metadata": {},
     "output_type": "execute_result"
    }
   ],
   "source": [
    "solve(m2)"
   ]
  },
  {
   "cell_type": "code",
   "execution_count": 4,
   "metadata": {},
   "outputs": [
    {
     "name": "stdout",
     "output_type": "stream",
     "text": [
      "search:\n",
      "\n"
     ]
    },
    {
     "data": {
      "text/markdown": [
       "Algencan interface to MathProgBase and JuMP.\n",
       "\n",
       "WARNING: This module is not threadsafe, you can not solve two models at the same time. BAD THINGS WILL HAPPEN IF YOU TRY TO DO IT.\n",
       "\n",
       "This modules creates an interface to allow you to use [Algencan](https://www.ime.usp.br/~egbirgin/tango/codes.php) to solve nonlinear optimization methods defined in JuMP.\n",
       "\n",
       "Algencan is a high performance and large scale Augmented Lagrangian solver written by Ernesto Birgin and Mario Martínez. It has many special features like being able to use HSL librarry functions to speed up linear algebra with sparse matrices and some smart accelaration strategies. To use it, at least for now, you need to compile Algencan yourself. Go to Tango's project [website](https://www.ime.usp.br/~egbirgin/tango/codes.php) grab Algencan and compile it. However, you need to make the small changes below to be able to get a dynamic library from it as Algencan creates a static library by default.\n",
       "\n",
       "1. Add the option `-f PIC` to  `CFLAGS` in the top of the main Makefile.\n",
       "2. After compiling, you'll get a libalgencan.a file in the `lib` subdir. In\n",
       "\n",
       "order to create a dynamic library try the following:\n",
       "\n",
       "```\n",
       "gcc -shared -o libalgencan.so -Wl,--whole-archive libalgencan.a \n",
       "    -Wl,--no-whole-archive -lgfortran\n",
       "```\n",
       "\n",
       "It should create a file named `libalgencan.so` in the `lib` dir.\n",
       "\n",
       "3. Create a environmental library named `ALGENCAN_LIB_DIR` pointing to the\n",
       "\n",
       "`lib` dir path.\n"
      ],
      "text/plain": [
       "Algencan interface to MathProgBase and JuMP.\n",
       "\n",
       "WARNING: This module is not threadsafe, you can not solve two models at the same time. BAD THINGS WILL HAPPEN IF YOU TRY TO DO IT.\n",
       "\n",
       "This modules creates an interface to allow you to use [Algencan](https://www.ime.usp.br/~egbirgin/tango/codes.php) to solve nonlinear optimization methods defined in JuMP.\n",
       "\n",
       "Algencan is a high performance and large scale Augmented Lagrangian solver written by Ernesto Birgin and Mario Martínez. It has many special features like being able to use HSL librarry functions to speed up linear algebra with sparse matrices and some smart accelaration strategies. To use it, at least for now, you need to compile Algencan yourself. Go to Tango's project [website](https://www.ime.usp.br/~egbirgin/tango/codes.php) grab Algencan and compile it. However, you need to make the small changes below to be able to get a dynamic library from it as Algencan creates a static library by default.\n",
       "\n",
       "1. Add the option `-f PIC` to  `CFLAGS` in the top of the main Makefile.\n",
       "2. After compiling, you'll get a libalgencan.a file in the `lib` subdir. In\n",
       "\n",
       "order to create a dynamic library try the following:\n",
       "\n",
       "```\n",
       "gcc -shared -o libalgencan.so -Wl,--whole-archive libalgencan.a \n",
       "    -Wl,--no-whole-archive -lgfortran\n",
       "```\n",
       "\n",
       "It should create a file named `libalgencan.so` in the `lib` dir.\n",
       "\n",
       "3. Create a environmental library named `ALGENCAN_LIB_DIR` pointing to the\n",
       "\n",
       "`lib` dir path.\n"
      ]
     },
     "execution_count": 4,
     "metadata": {},
     "output_type": "execute_result"
    }
   ],
   "source": [
    "? Algencan"
   ]
  },
  {
   "cell_type": "code",
   "execution_count": null,
   "metadata": {},
   "outputs": [],
   "source": []
  }
 ],
 "metadata": {
  "kernelspec": {
   "display_name": "Julia 0.6.2",
   "language": "julia",
   "name": "julia-0.6"
  },
  "language_info": {
   "file_extension": ".jl",
   "mimetype": "application/julia",
   "name": "julia",
   "version": "0.6.2"
  }
 },
 "nbformat": 4,
 "nbformat_minor": 2
}
